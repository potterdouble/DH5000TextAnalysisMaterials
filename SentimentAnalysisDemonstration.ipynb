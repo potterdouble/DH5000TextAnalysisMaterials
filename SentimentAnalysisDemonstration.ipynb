{
 "cells": [
  {
   "cell_type": "code",
   "execution_count": null,
   "metadata": {},
   "outputs": [],
   "source": [
    "# import required modules\n",
    "\n",
    "import nltk\n",
    "nltk.download('vadar_lexicon')\n",
    "nltk.download('punkt')\n",
    "\n",
    "import nltk.data\n",
    "from nltk.sentiment.vadar import SentimentIntensityAnalyzer\n",
    "from nltk import sentiment\n",
    "from nltk import word_tokenize"
   ]
  },
  {
   "cell_type": "code",
   "execution_count": null,
   "metadata": {},
   "outputs": [],
   "source": [
    "# inititialize required functions\n",
    "\n",
    "sid = SentimentIntensityAnalyzer()\n",
    "tokenizer = nltk.data.load('tokenizer/punkt/english.pickle')"
   ]
  },
  {
   "cell_type": "code",
   "execution_count": null,
   "metadata": {},
   "outputs": [],
   "source": [
    "# Setting the text to be analyzed\n",
    "\n",
    "message_text = '''Nothing indeed can be more unnatural than the present convulsions of this country, if the above account be a true one. I confess I shall assent to it with great reluctance, and only on the compulsion of the clearest and firmest proofs; because their account resolves itself into this short, but discouraging proposition, \"That we have a very good ministry, but that we are a very bad people\"; that we set ourselves to bite the hand that feeds us; that with a malignant insanity, we oppose the measures, and ungratefully vilify the persons, of those whose sole object is our own peace and prosperity. If a few puny libellers, acting under a knot of factious politicians, without virtue, parts, or character, (such they are constantly represented by these gentlemen,) are sufficient to excite this disturbance, very perverse must be the disposition of that people, amongst whom such a disturbance can be excited by such means. It is besides no small aggravation of the public misfortune, that the disease, on this hypothesis, appears to be without remedy. If the wealth of the nation be the cause of its turbulence, I imagine it is not proposed to introduce poverty, as a constable to keep the peace. If our dominions abroad are the roots which feed all this rank luxuriance of sedition, it is not intended to cut them off in order to famish the fruit. If our liberty has enfeebled the executive power, there is no design, I hope, to call in the aid of despotism, to fill up the deficiencies of law. Whatever may be intended, these things are not yet professed. We seem therefore to be driven to absolute despair; for we have no other materials to work upon, but those out of which God has been pleased to form the inhabitants of this island. If these be radically and essentially vicious, all that can be said is, that those men are very unhappy, to whose fortune or duty it falls to administer the affairs of this untoward people. I hear it indeed sometimes asserted, that a steady perseverance in the present measures, and a rigorous punishment of those who oppose them, will in course of time infallibly put an end to these disorders. But this, in my opinion, is said without much observation of our present disposition, and without any knowledge at all of the general nature of mankind. If the matter of which this nation is composed be so very fermentable as these gentlemen describe it, leaven never will be wanting to work it up, as long as discontent, revenge, and ambition, have existence in the world. Particular punishments are the cure for accidental distempers in the state; they inflame rather than allay those heats which arise from the settled mismanagement of the government, or from a natural indisposition in the people. It is of the utmost moment not to make mistakes in the use of strong measures; and firmness is then only a virtue when it accompanies the most perfect wisdom. In truth, inconstancy is a sort of natural corrective of folly and ignorance.'''\n",
    "sentences = tokenizer.tokenize(message_text)"
   ]
  },
  {
   "cell_type": "code",
   "execution_count": null,
   "metadata": {},
   "outputs": [],
   "source": [
    "# Add a loop to print the output sentences and their respective scores.\n",
    "\n",
    "for sentence in sentences:\n",
    "    print(sentence)\n",
    "    scores = sid.polarity_scores(sentence)\n",
    "    for key in sorted(scores):\n",
    "        print('{0}: {1}, 'format(key, scores[key]), end='')\n",
    "    print()"
   ]
  },
  {
   "cell_type": "code",
   "execution_count": null,
   "metadata": {},
   "outputs": [],
   "source": [
    "print(message_text)\n",
    "\n",
    "Fullscores = sid.polarity_scores(message_text)\n",
    "\n",
    "for key in sorted(Fullscores):\n",
    "    print('{0}: {1}, 'format(key, scores[key]), end='')"
   ]
  }
 ],
 "metadata": {
  "language_info": {
   "name": "python"
  }
 },
 "nbformat": 4,
 "nbformat_minor": 2
}
