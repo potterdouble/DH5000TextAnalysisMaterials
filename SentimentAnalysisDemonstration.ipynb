{
 "cells": [
  {
   "cell_type": "code",
   "execution_count": 13,
   "metadata": {},
   "outputs": [
    {
     "name": "stderr",
     "output_type": "stream",
     "text": [
      "[nltk_data] Downloading package vader_lexicon to\n",
      "[nltk_data]     C:\\Users\\kegan\\AppData\\Roaming\\nltk_data...\n",
      "[nltk_data]   Package vader_lexicon is already up-to-date!\n",
      "[nltk_data] Downloading package punkt to\n",
      "[nltk_data]     C:\\Users\\kegan\\AppData\\Roaming\\nltk_data...\n",
      "[nltk_data]   Package punkt is already up-to-date!\n"
     ]
    }
   ],
   "source": [
    "# import required modules\n",
    "\n",
    "import nltk\n",
    "nltk.download('vader_lexicon')\n",
    "nltk.download('punkt')\n",
    "\n",
    "import nltk.data\n",
    "from nltk.sentiment.vader import SentimentIntensityAnalyzer\n",
    "from nltk import sentiment\n",
    "from nltk import word_tokenize"
   ]
  },
  {
   "cell_type": "code",
   "execution_count": 14,
   "metadata": {},
   "outputs": [],
   "source": [
    "# inititialize required functions\n",
    "\n",
    "sid = SentimentIntensityAnalyzer()\n",
    "tokenizer = nltk.data.load('tokenizers/punkt/english.pickle')"
   ]
  },
  {
   "cell_type": "code",
   "execution_count": 15,
   "metadata": {},
   "outputs": [],
   "source": [
    "# Setting the text to be analyzed\n",
    "\n",
    "message_text = '''Nothing indeed can be more unnatural than the present convulsions of this country, if the above account be a true one. I confess I shall assent to it with great reluctance, and only on the compulsion of the clearest and firmest proofs; because their account resolves itself into this short, but discouraging proposition, \"That we have a very good ministry, but that we are a very bad people\"; that we set ourselves to bite the hand that feeds us; that with a malignant insanity, we oppose the measures, and ungratefully vilify the persons, of those whose sole object is our own peace and prosperity. If a few puny libellers, acting under a knot of factious politicians, without virtue, parts, or character, (such they are constantly represented by these gentlemen,) are sufficient to excite this disturbance, very perverse must be the disposition of that people, amongst whom such a disturbance can be excited by such means. It is besides no small aggravation of the public misfortune, that the disease, on this hypothesis, appears to be without remedy. If the wealth of the nation be the cause of its turbulence, I imagine it is not proposed to introduce poverty, as a constable to keep the peace. If our dominions abroad are the roots which feed all this rank luxuriance of sedition, it is not intended to cut them off in order to famish the fruit. If our liberty has enfeebled the executive power, there is no design, I hope, to call in the aid of despotism, to fill up the deficiencies of law. Whatever may be intended, these things are not yet professed. We seem therefore to be driven to absolute despair; for we have no other materials to work upon, but those out of which God has been pleased to form the inhabitants of this island. If these be radically and essentially vicious, all that can be said is, that those men are very unhappy, to whose fortune or duty it falls to administer the affairs of this untoward people. I hear it indeed sometimes asserted, that a steady perseverance in the present measures, and a rigorous punishment of those who oppose them, will in course of time infallibly put an end to these disorders. But this, in my opinion, is said without much observation of our present disposition, and without any knowledge at all of the general nature of mankind. If the matter of which this nation is composed be so very fermentable as these gentlemen describe it, leaven never will be wanting to work it up, as long as discontent, revenge, and ambition, have existence in the world. Particular punishments are the cure for accidental distempers in the state; they inflame rather than allay those heats which arise from the settled mismanagement of the government, or from a natural indisposition in the people. It is of the utmost moment not to make mistakes in the use of strong measures; and firmness is then only a virtue when it accompanies the most perfect wisdom. In truth, inconstancy is a sort of natural corrective of folly and ignorance.'''\n",
    "sentences = tokenizer.tokenize(message_text)"
   ]
  },
  {
   "cell_type": "code",
   "execution_count": 16,
   "metadata": {},
   "outputs": [
    {
     "name": "stdout",
     "output_type": "stream",
     "text": [
      "Nothing indeed can be more unnatural than the present convulsions of this country, if the above account be a true one.\n",
      "compound: 0.4215, neg: 0.0, neu: 0.872, pos: 0.128, \n",
      "I confess I shall assent to it with great reluctance, and only on the compulsion of the clearest and firmest proofs; because their account resolves itself into this short, but discouraging proposition, \"That we have a very good ministry, but that we are a very bad people\"; that we set ourselves to bite the hand that feeds us; that with a malignant insanity, we oppose the measures, and ungratefully vilify the persons, of those whose sole object is our own peace and prosperity.\n",
      "compound: -0.5023, neg: 0.186, neu: 0.649, pos: 0.165, \n",
      "If a few puny libellers, acting under a knot of factious politicians, without virtue, parts, or character, (such they are constantly represented by these gentlemen,) are sufficient to excite this disturbance, very perverse must be the disposition of that people, amongst whom such a disturbance can be excited by such means.\n",
      "compound: -0.7118, neg: 0.194, neu: 0.713, pos: 0.093, \n",
      "It is besides no small aggravation of the public misfortune, that the disease, on this hypothesis, appears to be without remedy.\n",
      "compound: -0.296, neg: 0.099, neu: 0.901, pos: 0.0, \n",
      "If the wealth of the nation be the cause of its turbulence, I imagine it is not proposed to introduce poverty, as a constable to keep the peace.\n",
      "compound: 0.5267, neg: 0.1, neu: 0.697, pos: 0.203, \n",
      "If our dominions abroad are the roots which feed all this rank luxuriance of sedition, it is not intended to cut them off in order to famish the fruit.\n",
      "compound: -0.2467, neg: 0.089, neu: 0.854, pos: 0.057, \n",
      "If our liberty has enfeebled the executive power, there is no design, I hope, to call in the aid of despotism, to fill up the deficiencies of law.\n",
      "compound: 0.6249, neg: 0.068, neu: 0.738, pos: 0.194, \n",
      "Whatever may be intended, these things are not yet professed.\n",
      "compound: 0.0, neg: 0.0, neu: 1.0, pos: 0.0, \n",
      "We seem therefore to be driven to absolute despair; for we have no other materials to work upon, but those out of which God has been pleased to form the inhabitants of this island.\n",
      "compound: 0.6428, neg: 0.082, neu: 0.755, pos: 0.164, \n",
      "If these be radically and essentially vicious, all that can be said is, that those men are very unhappy, to whose fortune or duty it falls to administer the affairs of this untoward people.\n",
      "compound: -0.6801, neg: 0.149, neu: 0.851, pos: 0.0, \n",
      "I hear it indeed sometimes asserted, that a steady perseverance in the present measures, and a rigorous punishment of those who oppose them, will in course of time infallibly put an end to these disorders.\n",
      "compound: -0.6486, neg: 0.15, neu: 0.85, pos: 0.0, \n",
      "But this, in my opinion, is said without much observation of our present disposition, and without any knowledge at all of the general nature of mankind.\n",
      "compound: 0.0, neg: 0.0, neu: 1.0, pos: 0.0, \n",
      "If the matter of which this nation is composed be so very fermentable as these gentlemen describe it, leaven never will be wanting to work it up, as long as discontent, revenge, and ambition, have existence in the world.\n",
      "compound: -0.5106, neg: 0.082, neu: 0.892, pos: 0.027, \n",
      "Particular punishments are the cure for accidental distempers in the state; they inflame rather than allay those heats which arise from the settled mismanagement of the government, or from a natural indisposition in the people.\n",
      "compound: -0.1531, neg: 0.109, neu: 0.824, pos: 0.066, \n",
      "It is of the utmost moment not to make mistakes in the use of strong measures; and firmness is then only a virtue when it accompanies the most perfect wisdom.\n",
      "compound: 0.9421, neg: 0.0, neu: 0.602, pos: 0.398, \n",
      "In truth, inconstancy is a sort of natural corrective of folly and ignorance.\n",
      "compound: 0.2516, neg: 0.156, neu: 0.562, pos: 0.282, \n"
     ]
    }
   ],
   "source": [
    "# Add a loop to print the output sentences and their respective scores.\n",
    "\n",
    "for sentence in sentences:\n",
    "    print(sentence)\n",
    "    scores = sid.polarity_scores(sentence)\n",
    "    for key in sorted(scores):\n",
    "        print('{0}: {1}, '.format(key, scores[key]), end='')\n",
    "    print()"
   ]
  },
  {
   "cell_type": "code",
   "execution_count": 17,
   "metadata": {},
   "outputs": [
    {
     "name": "stdout",
     "output_type": "stream",
     "text": [
      "Nothing indeed can be more unnatural than the present convulsions of this country, if the above account be a true one. I confess I shall assent to it with great reluctance, and only on the compulsion of the clearest and firmest proofs; because their account resolves itself into this short, but discouraging proposition, \"That we have a very good ministry, but that we are a very bad people\"; that we set ourselves to bite the hand that feeds us; that with a malignant insanity, we oppose the measures, and ungratefully vilify the persons, of those whose sole object is our own peace and prosperity. If a few puny libellers, acting under a knot of factious politicians, without virtue, parts, or character, (such they are constantly represented by these gentlemen,) are sufficient to excite this disturbance, very perverse must be the disposition of that people, amongst whom such a disturbance can be excited by such means. It is besides no small aggravation of the public misfortune, that the disease, on this hypothesis, appears to be without remedy. If the wealth of the nation be the cause of its turbulence, I imagine it is not proposed to introduce poverty, as a constable to keep the peace. If our dominions abroad are the roots which feed all this rank luxuriance of sedition, it is not intended to cut them off in order to famish the fruit. If our liberty has enfeebled the executive power, there is no design, I hope, to call in the aid of despotism, to fill up the deficiencies of law. Whatever may be intended, these things are not yet professed. We seem therefore to be driven to absolute despair; for we have no other materials to work upon, but those out of which God has been pleased to form the inhabitants of this island. If these be radically and essentially vicious, all that can be said is, that those men are very unhappy, to whose fortune or duty it falls to administer the affairs of this untoward people. I hear it indeed sometimes asserted, that a steady perseverance in the present measures, and a rigorous punishment of those who oppose them, will in course of time infallibly put an end to these disorders. But this, in my opinion, is said without much observation of our present disposition, and without any knowledge at all of the general nature of mankind. If the matter of which this nation is composed be so very fermentable as these gentlemen describe it, leaven never will be wanting to work it up, as long as discontent, revenge, and ambition, have existence in the world. Particular punishments are the cure for accidental distempers in the state; they inflame rather than allay those heats which arise from the settled mismanagement of the government, or from a natural indisposition in the people. It is of the utmost moment not to make mistakes in the use of strong measures; and firmness is then only a virtue when it accompanies the most perfect wisdom. In truth, inconstancy is a sort of natural corrective of folly and ignorance.\n",
      "compound: 0.2516, neg: 0.156, neu: 0.562, pos: 0.282, "
     ]
    }
   ],
   "source": [
    "print(message_text)\n",
    "\n",
    "Fullscores = sid.polarity_scores(message_text)\n",
    "\n",
    "for key in sorted(Fullscores):\n",
    "    print('{0}: {1}, '.format(key, scores[key]), end='')"
   ]
  }
 ],
 "metadata": {
  "kernelspec": {
   "display_name": "base",
   "language": "python",
   "name": "python3"
  },
  "language_info": {
   "codemirror_mode": {
    "name": "ipython",
    "version": 3
   },
   "file_extension": ".py",
   "mimetype": "text/x-python",
   "name": "python",
   "nbconvert_exporter": "python",
   "pygments_lexer": "ipython3",
   "version": "3.12.3"
  }
 },
 "nbformat": 4,
 "nbformat_minor": 2
}
